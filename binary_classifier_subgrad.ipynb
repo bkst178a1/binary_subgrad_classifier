{
 "cells": [
  {
   "cell_type": "code",
   "execution_count": 20,
   "id": "bcdf245a",
   "metadata": {},
   "outputs": [],
   "source": [
    "from PIL import Image\n",
    "import numpy as np\n",
    "import os"
   ]
  },
  {
   "cell_type": "code",
   "execution_count": 21,
   "id": "8ed99f53",
   "metadata": {},
   "outputs": [],
   "source": [
    "class Predictor:\n",
    "    def __init__(self):\n",
    "        self.w = None\n",
    "        self.metric = None\n",
    "        self.prev_metric = 0\n",
    "        self.border = None\n",
    "    \n",
    "    def fit(self, class_1_arr, class_2_arr):\n",
    "        self.w = (np.sum(class_1_arr, axis=0)*(1/len(class_1_arr)) - \\\n",
    "                  np.sum(class_2_arr, axis=0)*(1/len(class_2_arr)))\n",
    "        self.metric = self.__calculate_metric(class_1_arr, class_2_arr)\n",
    "        i = 0\n",
    "                \n",
    "        while abs(self.prev_metric - self.metric) > 0.0001:\n",
    "            self.prev_metric = self.metric\n",
    "            max_class_1 = class_1_arr[self.__find_max_index(class_1_arr)]\n",
    "            min_class_2 = class_2_arr[self.__find_min_index(class_2_arr)]\n",
    "            grad = (np.dot(self.w,self.w)*(max_class_1 - min_class_2) - \\\n",
    "                  np.dot(self.w,max_class_1 - min_class_2)*self.w)/(np.dot(self.w,self.w)**(3/2))\n",
    "            h = 1/(i+1)**(2/3)\n",
    "            i += 1\n",
    "            self.w = self.__get_w()-h*grad\n",
    "            self.metric = self.__calculate_metric(class_1_arr, class_2_arr)\n",
    "\n",
    "\n",
    "        self.border = ((np.dot(self.w,class_2_arr[self.__find_max_index(class_2_arr)]) + \\\n",
    "                        np.dot(self.w,class_1_arr[self.__find_min_index(class_1_arr)]))/2)\n",
    "                  \n",
    "            \n",
    "                  \n",
    "    def predict(self,value):\n",
    "        if np.dot(self.w,value) > self.border:\n",
    "            print('class_1')\n",
    "        else:\n",
    "            print('class_2')\n",
    "            \n",
    "            \n",
    "    def test_score(self,class_1_test, class_2_test):\n",
    "        right_answers = 0\n",
    "        for i in class_1_test:\n",
    "            if np.dot(self.w,i) > self.border:\n",
    "                right_answers += 1\n",
    "        for i in class_2_test:\n",
    "            if np.dot(self.w,i) < self.border:\n",
    "                right_answers += 1\n",
    "                \n",
    "        print('Score:', right_answers*100/(len(class_1_test) + len(class_2_test)))\n",
    "        \n",
    "    def __find_min_index(self,vectors):\n",
    "        _min = 10000\n",
    "        i = 0\n",
    "        min_index = 0\n",
    "        for vector in vectors:\n",
    "            res = np.dot(vector, self.w)/(np.dot( self.w, self.w)**(1/2))\n",
    "            if res < _min:\n",
    "                _min = res\n",
    "                min_index = i\n",
    "            i = i + 1\n",
    "        return min_index\n",
    "        \n",
    "    def __find_max_index(self,vectors):\n",
    "        _max = -10000\n",
    "        i = 0\n",
    "        max_index = 0\n",
    "        for vector in vectors:\n",
    "            res = np.dot(vector, self.w)/(np.dot( self.w, self.w)**(1/2))\n",
    "            if res > _max:\n",
    "                _max = res\n",
    "                max_index = i\n",
    "            i = i + 1\n",
    "        return max_index\n",
    "    \n",
    "    def __calculate_metric(self,class_1_arr,class_2_arr):\n",
    "          return np.dot(self.w,class_1_arr[self.__find_min_index(class_1_arr)])/(np.dot(self.w,self.w)**(1/2)) - \\\n",
    "                  np.dot(self.w,class_2_arr[self.__find_max_index(class_2_arr)])/(np.dot(self.w,self.w)**(1/2))\n",
    "        \n",
    "    def __get_w(self):\n",
    "        return self.w.copy()"
   ]
  },
  {
   "cell_type": "code",
   "execution_count": 22,
   "id": "16bc2ddc",
   "metadata": {},
   "outputs": [],
   "source": [
    "def load_imgs(folder):\n",
    "    imgs = []\n",
    "    for i in os.listdir(folder):\n",
    "        im = np.asarray(Image.open(folder+'/'+i)).reshape(28*28)\n",
    "        imgs.append(im)\n",
    "    return np.asarray(imgs)\n",
    "\n",
    "def normalize(arr):\n",
    "    arr_res = arr.copy()\n",
    "    for i in range(len(arr)):\n",
    "        for j in range(len(arr[i])):\n",
    "            if arr[i,j]:\n",
    "                arr_res[i,j] = (arr[i,j] - np.mean(arr[i]))/np.std(arr[i])\n",
    "    return arr_res"
   ]
  },
  {
   "cell_type": "code",
   "execution_count": 23,
   "id": "ddf9bd26",
   "metadata": {},
   "outputs": [],
   "source": [
    "train_1 = normalize(load_imgs('1_500'))\n",
    "train_3 = normalize(load_imgs('3_500'))\n",
    "test_1 = normalize(load_imgs('test1'))\n",
    "test_3 = normalize(load_imgs('test3'))"
   ]
  },
  {
   "cell_type": "code",
   "execution_count": 24,
   "id": "c33e4a19",
   "metadata": {},
   "outputs": [
    {
     "name": "stdout",
     "output_type": "stream",
     "text": [
      "Score: 87.5\n"
     ]
    }
   ],
   "source": [
    "clf = Predictor()\n",
    "clf.fit(train_1,train_3)\n",
    "clf.test_score(train_1,train_3)"
   ]
  },
  {
   "cell_type": "code",
   "execution_count": 25,
   "id": "d3a8c023",
   "metadata": {},
   "outputs": [
    {
     "name": "stdout",
     "output_type": "stream",
     "text": [
      "Score: 92.36111111111111\n"
     ]
    }
   ],
   "source": [
    "clf.test_score(test_1,test_3)"
   ]
  },
  {
   "cell_type": "code",
   "execution_count": null,
   "id": "8028e024",
   "metadata": {},
   "outputs": [],
   "source": []
  }
 ],
 "metadata": {
  "kernelspec": {
   "display_name": "Python 3 (ipykernel)",
   "language": "python",
   "name": "python3"
  },
  "language_info": {
   "codemirror_mode": {
    "name": "ipython",
    "version": 3
   },
   "file_extension": ".py",
   "mimetype": "text/x-python",
   "name": "python",
   "nbconvert_exporter": "python",
   "pygments_lexer": "ipython3",
   "version": "3.10.0"
  }
 },
 "nbformat": 4,
 "nbformat_minor": 5
}
